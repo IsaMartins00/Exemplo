{
  "nbformat": 4,
  "nbformat_minor": 0,
  "metadata": {
    "colab": {
      "provenance": [],
      "authorship_tag": "ABX9TyMsxTS6rAscuDxROTPh/WYR",
      "include_colab_link": true
    },
    "kernelspec": {
      "name": "python3",
      "display_name": "Python 3"
    },
    "language_info": {
      "name": "python"
    }
  },
  "cells": [
    {
      "cell_type": "markdown",
      "metadata": {
        "id": "view-in-github",
        "colab_type": "text"
      },
      "source": [
        "<a href=\"https://colab.research.google.com/github/IsaMartins00/Exemplo/blob/main/TRABALHO_FINAL_BIG_DATA.ipynb\" target=\"_parent\"><img src=\"https://colab.research.google.com/assets/colab-badge.svg\" alt=\"Open In Colab\"/></a>"
      ]
    },
    {
      "cell_type": "markdown",
      "source": [
        "PARTE 1 - LETRA A"
      ],
      "metadata": {
        "id": "wvvZ3PnXfCTS"
      }
    },
    {
      "cell_type": "code",
      "source": [
        "import pandas as pd\n",
        "\n",
        "df = pd.read_csv('https://raw.githubusercontent.com/IsaMartins00/Exemplo/main/world_alcohol.csv')\n",
        "\n",
        "agrupar_bebidas = df.groupby('Beverage Types')\n",
        "\n",
        "for beverage, data in agrupar_bebidas:\n",
        "    print(f\"Tipos de bebidas: {beverage}\")\n"
      ],
      "metadata": {
        "id": "yb-XYhIALqSO",
        "colab": {
          "base_uri": "https://localhost:8080/"
        },
        "outputId": "cc69b8dc-df03-490d-fa68-3eb1fcbd0a70"
      },
      "execution_count": null,
      "outputs": [
        {
          "output_type": "stream",
          "name": "stdout",
          "text": [
            "Tipos de bebidas: Beer\n",
            "Tipos de bebidas: Other\n",
            "Tipos de bebidas: Spirits\n",
            "Tipos de bebidas: Wine\n"
          ]
        }
      ]
    },
    {
      "cell_type": "markdown",
      "source": [
        "LETRA B"
      ],
      "metadata": {
        "id": "M6QmkI2YfHQJ"
      }
    },
    {
      "cell_type": "code",
      "source": [
        "import pandas as pd\n",
        "\n",
        "\n",
        "df = pd.read_csv('world_alcohol.csv')\n",
        "\n",
        "agrupar_regiao_ano = df.groupby(['WHO region', 'Year'])\n",
        "\n",
        "for (region, year), data in agrupar_regiao_ano:\n",
        "    print(f\"Região: {region}, Ano: {year}\")\n",
        "\n"
      ],
      "metadata": {
        "id": "c3xYb0yyPigo",
        "colab": {
          "base_uri": "https://localhost:8080/"
        },
        "outputId": "f04a33e2-3fae-44a3-9a0d-b66ee882d6b2"
      },
      "execution_count": null,
      "outputs": [
        {
          "output_type": "stream",
          "name": "stdout",
          "text": [
            "Região: Africa, Ano: 1984\n",
            "Região: Africa, Ano: 1985\n",
            "Região: Africa, Ano: 1986\n",
            "Região: Africa, Ano: 1987\n",
            "Região: Africa, Ano: 1989\n",
            "Região: Americas, Ano: 1984\n",
            "Região: Americas, Ano: 1985\n",
            "Região: Americas, Ano: 1986\n",
            "Região: Americas, Ano: 1987\n",
            "Região: Americas, Ano: 1989\n",
            "Região: Eastern Mediterranean, Ano: 1984\n",
            "Região: Eastern Mediterranean, Ano: 1985\n",
            "Região: Eastern Mediterranean, Ano: 1986\n",
            "Região: Eastern Mediterranean, Ano: 1987\n",
            "Região: Eastern Mediterranean, Ano: 1989\n",
            "Região: Europe, Ano: 1984\n",
            "Região: Europe, Ano: 1985\n",
            "Região: Europe, Ano: 1986\n",
            "Região: Europe, Ano: 1987\n",
            "Região: Europe, Ano: 1989\n",
            "Região: South-East Asia, Ano: 1984\n",
            "Região: South-East Asia, Ano: 1985\n",
            "Região: South-East Asia, Ano: 1986\n",
            "Região: Western Pacific, Ano: 1984\n",
            "Região: Western Pacific, Ano: 1985\n",
            "Região: Western Pacific, Ano: 1986\n",
            "Região: Western Pacific, Ano: 1987\n"
          ]
        }
      ]
    },
    {
      "cell_type": "markdown",
      "source": [
        "LETRA C"
      ],
      "metadata": {
        "id": "swN3vJLrfM36"
      }
    },
    {
      "cell_type": "code",
      "source": [
        "import pandas as pd\n",
        "\n",
        "df = pd.read_csv('world_alcohol.csv')\n",
        "\n",
        "conta_regiao = df['WHO region'].value_counts()\n",
        "\n",
        "conta_pais = df['Country'].value_counts()\n",
        "\n",
        "soma_das_bebidas = df.groupby('Beverage Types')['Display Value'].sum()\n",
        "\n",
        "print(\"Contagem das Regiões:\")\n",
        "print(conta_regiao)\n",
        "print(\"\\nContagem dos Países:\")\n",
        "print(conta_pais )\n",
        "print(\"\\nSoma da coluna de valores por Bebida:\")\n",
        "print(soma_das_bebidas)\n"
      ],
      "metadata": {
        "id": "FA5FTKbkTJ4m",
        "colab": {
          "base_uri": "https://localhost:8080/"
        },
        "outputId": "e3846fdd-d2ad-4011-a197-f93a577a9154"
      },
      "execution_count": null,
      "outputs": [
        {
          "output_type": "stream",
          "name": "stdout",
          "text": [
            "Contagem das Regiões:\n",
            "Africa                   29\n",
            "Europe                   22\n",
            "Americas                 19\n",
            "Eastern Mediterranean    18\n",
            "Western Pacific           8\n",
            "South-East Asia           4\n",
            "Name: WHO region, dtype: int64\n",
            "\n",
            "Contagem dos Países:\n",
            "Viet Nam                                 4\n",
            "Ukraine                                  3\n",
            "Afghanistan                              2\n",
            "Suriname                                 2\n",
            "Somalia                                  2\n",
            "                                        ..\n",
            "Egypt                                    1\n",
            "Russian Federation                       1\n",
            "Micronesia (Federated States of)         1\n",
            "Sierra Leone                             1\n",
            "Democratic People's Republic of Korea    1\n",
            "Name: Country, Length: 80, dtype: int64\n",
            "\n",
            "Soma da coluna de valores por Bebida:\n",
            "Beverage Types\n",
            "Beer       35.50\n",
            "Other      14.93\n",
            "Spirits    30.97\n",
            "Wine       23.39\n",
            "Name: Display Value, dtype: float64\n"
          ]
        }
      ]
    },
    {
      "cell_type": "markdown",
      "source": [
        "LETRA D"
      ],
      "metadata": {
        "id": "aQpDDU_TfSR_"
      }
    },
    {
      "cell_type": "code",
      "source": [
        "import pandas as pd\n",
        "import matplotlib.pyplot as plt\n",
        "\n",
        "df = pd.read_csv('world_alcohol.csv')\n",
        "\n",
        "media = df['Display Value'].mean()\n",
        "moda = df['Display Value'].mode().values[0]\n",
        "mediana = df['Display Value'].median()\n",
        "estatistica_descritiva = df['Display Value'].describe()\n",
        "\n",
        "grouped_by_drinks = df.groupby('Beverage Types')['Display Value'].sum()\n",
        "grouped_by_drinks.plot(kind='bar')\n",
        "plt.xlabel('Tipo de Bebida')\n",
        "plt.ylabel('Soma dos Valores')\n",
        "plt.title('Comparação dos Valores Agrupados por Tipo de Bebida')\n",
        "\n",
        "print(\"Análises Estatísticas da Coluna de Valores:\")\n",
        "print(f\"Média: {media}\")\n",
        "print(f\"Moda: {moda}\")\n",
        "print(f\"Mediana: {mediana}\")\n",
        "print(\"estatistica_descritiva:\")\n",
        "print(estatistica_descritiva)\n"
      ],
      "metadata": {
        "id": "zF8d1Ia0dbdw",
        "colab": {
          "base_uri": "https://localhost:8080/",
          "height": 744
        },
        "outputId": "605aa884-b092-4f9a-f14d-4b6af20d7626"
      },
      "execution_count": null,
      "outputs": [
        {
          "output_type": "stream",
          "name": "stdout",
          "text": [
            "Análises Estatísticas da Coluna de Valores:\n",
            "Média: 1.1030526315789473\n",
            "Moda: 0.0\n",
            "Mediana: 0.19\n",
            "estatistica_descritiva:\n",
            "count    95.000000\n",
            "mean      1.103053\n",
            "std       1.642623\n",
            "min       0.000000\n",
            "25%       0.000000\n",
            "50%       0.190000\n",
            "75%       1.820000\n",
            "max       7.380000\n",
            "Name: Display Value, dtype: float64\n"
          ]
        },
        {
          "output_type": "display_data",
          "data": {
            "text/plain": [
              "<Figure size 640x480 with 1 Axes>"
            ],
            "image/png": "[encoded data removed]"
          },
          "metadata": {}
        }
      ]
    },
    {
      "cell_type": "markdown",
      "source": [
        "LETRA E"
      ],
      "metadata": {
        "id": "D2n46hWmfgKM"
      }
    },
    {
      "cell_type": "code",
      "source": [
        "import pandas as pd\n",
        "\n",
        "df = pd.read_csv('world_alcohol.csv')\n",
        "\n",
        "coluna1 = df[df['Year'] == 1985]['Beverage Types']\n",
        "print(\"Bebidas do ano 1985:\")\n",
        "print(coluna1)\n",
        "print()\n",
        "\n",
        "coluna2 = df[df['Display Value'] > 4]['WHO region']\n",
        "print(\"Região com valores acima de 4:\")\n",
        "print(coluna2)\n"
      ],
      "metadata": {
        "id": "KKvv-HgXfhJ0",
        "colab": {
          "base_uri": "https://localhost:8080/"
        },
        "outputId": "186ae2ed-29a8-41ea-a735-2b2e9a0b45b2"
      },
      "execution_count": null,
      "outputs": [
        {
          "output_type": "stream",
          "name": "stdout",
          "text": [
            "Bebidas do ano 1985:\n",
            "2        Wine\n",
            "7     Spirits\n",
            "12       Beer\n",
            "14    Spirits\n",
            "24      Other\n",
            "26       Wine\n",
            "33      Other\n",
            "35    Spirits\n",
            "44      Other\n",
            "50      Other\n",
            "63      Other\n",
            "71      Other\n",
            "76       Beer\n",
            "77    Spirits\n",
            "80      Other\n",
            "81       Wine\n",
            "85       Wine\n",
            "94    Spirits\n",
            "96       Wine\n",
            "99       Wine\n",
            "Name: Beverage Types, dtype: object\n",
            "\n",
            "Região com valores acima de 4:\n",
            "3     Americas\n",
            "9       Africa\n",
            "21    Americas\n",
            "30      Africa\n",
            "41      Europe\n",
            "57      Europe\n",
            "91      Europe\n",
            "96      Europe\n",
            "Name: WHO region, dtype: object\n"
          ]
        }
      ]
    },
    {
      "cell_type": "markdown",
      "source": [
        "PARTE 2 - LETRA A"
      ],
      "metadata": {
        "id": "tZp2sLWUxoSS"
      }
    },
    {
      "cell_type": "code",
      "source": [
        "import pandas as pd\n",
        "import matplotlib.pyplot as plt\n",
        "\n",
        "url = 'https://raw.githubusercontent.com/IsaMartins00/Exemplo/main/cursos-prouni.csv'\n",
        "\n",
        "df = pd.read_csv(url)\n",
        "\n",
        "df['nota_integral_ampla'].fillna(0.0, inplace=True)\n",
        "df['nota_integral_cotas'].fillna(0.0, inplace=True)\n",
        "df['nota_parcial_ampla'].fillna(0.0, inplace=True)\n",
        "df['nota_parcial_cotas'].fillna(0.0, inplace=True)\n",
        "\n",
        "print(df)\n"
      ],
      "metadata": {
        "id": "j3GgSyW4xV07",
        "colab": {
          "base_uri": "https://localhost:8080/"
        },
        "outputId": "d2e64a1b-4ab7-4dff-e7e2-5eefcd6fb205"
      },
      "execution_count": 24,
      "outputs": [
        {
          "output_type": "stream",
          "name": "stdout",
          "text": [
            "               grau              turno  mensalidade  bolsa_integral_cotas  \\\n",
            "0       Bacharelado           Integral      9999.99                  15.0   \n",
            "1       Bacharelado            Noturno      9836.40                   1.0   \n",
            "2       Bacharelado           Integral      9715.61                   2.0   \n",
            "3       Bacharelado            Noturno      9689.34                   3.0   \n",
            "4       Bacharelado           Integral      9674.34                   4.0   \n",
            "...             ...                ...          ...                   ...   \n",
            "41442  Licenciatura  Curso a Distância       149.00                   1.0   \n",
            "41443   Tecnológico  Curso a Distância       144.00                   1.0   \n",
            "41444   Tecnológico         Vespertino       139.00                   1.0   \n",
            "41445   Bacharelado  Curso a Distância       139.00                   1.0   \n",
            "41446   Tecnológico  Curso a Distância       139.00                   3.0   \n",
            "\n",
            "       bolsa_integral_ampla  bolsa_parcial_cotas  bolsa_parcial_ampla  \\\n",
            "0                      14.0                  NaN                  NaN   \n",
            "1                       NaN                  NaN                  NaN   \n",
            "2                       5.0                  6.0                 10.0   \n",
            "3                       2.0                  NaN                  NaN   \n",
            "4                       1.0                  5.0                  2.0   \n",
            "...                     ...                  ...                  ...   \n",
            "41442                   NaN                  NaN                  NaN   \n",
            "41443                   2.0                  2.0                  5.0   \n",
            "41444                   NaN                  NaN                  NaN   \n",
            "41445                   NaN                  NaN                  NaN   \n",
            "41446                   1.0                  NaN                  NaN   \n",
            "\n",
            "              curso_id                 curso_busca          cidade_busca  \\\n",
            "0         706710394154                    Medicina          Campo Grande   \n",
            "1      104191210567043                  Enfermagem               Crateus   \n",
            "2        1002328574024                    Medicina             Sao Paulo   \n",
            "3      104191212798093                  Psicologia               Crateus   \n",
            "4       65899611932754                    Medicina            Rio Branco   \n",
            "...                ...                         ...                   ...   \n",
            "41442     994312865605                  Sociologia  Paraiso do Tocantins   \n",
            "41443   65868712869275                   Marketing           Sao VIcente   \n",
            "41444    1056445674232  Gestão de Recursos Humanos              Brasilia   \n",
            "41445      96781210935              Serviço Social               Vitoria   \n",
            "41446  200467412868575            Gestão Ambiental              Santarem   \n",
            "\n",
            "      uf_busca     cidade_filtro  \\\n",
            "0           MS  NTAwMjAwNDAyNzA0   \n",
            "1           CE  MjMwNDAxODA0MTAz   \n",
            "2           SP  MzUxNTA2MTUwMzA4   \n",
            "3           CE  MjMwNDAxODA0MTAz   \n",
            "4           AC  MTIwMjAwNDAwNDAx   \n",
            "...        ...               ...   \n",
            "41442       TO  MTcwMTAwNDE2MTA5   \n",
            "41443       SP  MzUxNTA2MzUxMDA5   \n",
            "41444       DF  NTMwMTAwMTAwMTA4   \n",
            "41445       ES  MzIwMzAwOTA1MzA5   \n",
            "41446       PA  MTUwMTAwMjA2ODA3   \n",
            "\n",
            "                                       universidade_nome  \\\n",
            "0                      Universidade Anhanguera - UNIDERP   \n",
            "1                      Faculdade Princesa do Oeste - FPO   \n",
            "2              Universidade Cidade de São Paulo - UNICID   \n",
            "3                      Faculdade Princesa do Oeste - FPO   \n",
            "4                    Faculdade Barão do Rio Branco - FAB   \n",
            "...                                                  ...   \n",
            "41442                       Universidade Paulista - UNIP   \n",
            "41443                     Faculdade de São VIcente - FSV   \n",
            "41444  Centro Universitário Planalto do Distrito Fede...   \n",
            "41445                       Universidade Paulista - UNIP   \n",
            "41446                       Universidade Paulista - UNIP   \n",
            "\n",
            "                                             campus_nome  campus_id  \\\n",
            "0                     CAMPO GRANDE - SEDE - Miguel Couto     706710   \n",
            "1                             UNIDADE SEDE - São Vicente    1041912   \n",
            "2      UNIVERSIDADE CIDADE DE SÃO PAULO - UNICID - SE...    1002328   \n",
            "3                             UNIDADE SEDE - São Vicente    1041912   \n",
            "4      CAMPUS  - RIO BRANCO - JARDIM EUROPA II - Jard...     658996   \n",
            "...                                                  ...        ...   \n",
            "41442                      PARAISO DO TOCANTINS - Centro       9943   \n",
            "41443                              UNIDADE SEDE - Centro     658687   \n",
            "41444  DF03 - UNIDADE BRASIL CENTRAL - Taguatinga Nor...    1056445   \n",
            "41445                         VITORIA I - Barro Vermelho       9678   \n",
            "41446                                  SANTARÉM - Fátima    2004674   \n",
            "\n",
            "                             nome  nota_integral_ampla  nota_integral_cotas  \\\n",
            "0                        Medicina               740.22               726.46   \n",
            "1                      Enfermagem               663.36                 0.00   \n",
            "2                        Medicina               739.62               738.08   \n",
            "3                      Psicologia               651.00               652.22   \n",
            "4                        Medicina               758.32               723.94   \n",
            "...                           ...                  ...                  ...   \n",
            "41442                  Sociologia               502.36                 0.00   \n",
            "41443                   Marketing               533.34               450.00   \n",
            "41444  Gestão de Recursos Humanos               580.76                 0.00   \n",
            "41445              Serviço Social               548.26                 0.00   \n",
            "41446            Gestão Ambiental               605.32               573.70   \n",
            "\n",
            "       nota_parcial_ampla  nota_parcial_cotas  \n",
            "0                    0.00                0.00  \n",
            "1                    0.00                0.00  \n",
            "2                  738.96              718.64  \n",
            "3                    0.00                0.00  \n",
            "4                  734.92              711.26  \n",
            "...                   ...                 ...  \n",
            "41442                0.00                0.00  \n",
            "41443              450.00              450.00  \n",
            "41444                0.00                0.00  \n",
            "41445                0.00                0.00  \n",
            "41446                0.00                0.00  \n",
            "\n",
            "[41447 rows x 20 columns]\n"
          ]
        }
      ]
    },
    {
      "cell_type": "markdown",
      "source": [
        "LETRA B"
      ],
      "metadata": {
        "id": "IBF_rhEE3SLE"
      }
    },
    {
      "cell_type": "code",
      "source": [
        "import pandas as pd\n",
        "\n",
        "url = 'https://raw.githubusercontent.com/IsaMartins00/Exemplo/main/cursos-prouni.csv'\n",
        "data = pd.read_csv(url)\n",
        "\n",
        "grau = data.groupby('grau')\n",
        "\n",
        "print(grau.size())\n"
      ],
      "metadata": {
        "colab": {
          "base_uri": "https://localhost:8080/"
        },
        "id": "EZN8xICi3VDx",
        "outputId": "fc662919-f42b-4ea6-d6e7-1ed118fcd302"
      },
      "execution_count": null,
      "outputs": [
        {
          "output_type": "stream",
          "name": "stdout",
          "text": [
            "grau\n",
            "Bacharelado     19165\n",
            "Licenciatura     8802\n",
            "Tecnológico     13480\n",
            "dtype: int64\n"
          ]
        }
      ]
    },
    {
      "cell_type": "markdown",
      "source": [
        "LETRA C"
      ],
      "metadata": {
        "id": "1B1IpetW31N9"
      }
    },
    {
      "cell_type": "code",
      "source": [
        "import pandas as pd\n",
        "\n",
        "url = 'https://raw.githubusercontent.com/IsaMartins00/Exemplo/main/cursos-prouni.csv'\n",
        "data = pd.read_csv(url)\n",
        "\n",
        "cursos = ['Matemática', 'Medicina', 'Pedagogia']\n",
        "data = data[data['nome'].isin(cursos)]\n",
        "\n",
        "grupo = data.groupby('nome')\n",
        "\n",
        "print(grupo.size())\n"
      ],
      "metadata": {
        "colab": {
          "base_uri": "https://localhost:8080/"
        },
        "id": "B-eFljH433A6",
        "outputId": "df820a51-bb2c-48f1-b4b8-c6282f059c2c"
      },
      "execution_count": null,
      "outputs": [
        {
          "output_type": "stream",
          "name": "stdout",
          "text": [
            "nome\n",
            "Matemática     905\n",
            "Medicina       124\n",
            "Pedagogia     2555\n",
            "dtype: int64\n"
          ]
        }
      ]
    },
    {
      "cell_type": "markdown",
      "source": [
        "LETRA D"
      ],
      "metadata": {
        "id": "zARGllaO55PH"
      }
    },
    {
      "cell_type": "code",
      "source": [
        "import pandas as pd\n",
        "\n",
        "url = 'https://raw.githubusercontent.com/IsaMartins00/Exemplo/main/cursos-prouni.csv'\n",
        "data = pd.read_csv(url)\n",
        "\n",
        "notas_estados = data.groupby('uf_busca')['nota_integral_ampla', 'bolsa_integral_cotas', 'bolsa_parcial_ampla', 'bolsa_parcial_cotas', 'bolsa_integral_ampla'].mean()\n",
        "\n",
        "print(notas_estados)\n"
      ],
      "metadata": {
        "colab": {
          "base_uri": "https://localhost:8080/"
        },
        "id": "oZdcKn0159tU",
        "outputId": "9e292dd4-3306-4e22-fa0c-6e06a2321228"
      },
      "execution_count": null,
      "outputs": [
        {
          "output_type": "stream",
          "name": "stdout",
          "text": [
            "          nota_integral_ampla  bolsa_integral_cotas  bolsa_parcial_ampla  \\\n",
            "uf_busca                                                                   \n",
            "AC                 592.320255              1.528662             1.588235   \n",
            "AL                 598.094599              2.547445             2.619048   \n",
            "AM                 580.413199              3.400576            21.763158   \n",
            "AP                 583.807126              3.114943             1.625000   \n",
            "BA                 588.942140              2.348121            13.628289   \n",
            "CE                 630.480894              2.251656            19.107256   \n",
            "DF                 586.136432              1.795154            23.697885   \n",
            "ES                 605.744498              1.775112             8.146341   \n",
            "GO                 573.088620              1.989076            19.900990   \n",
            "MA                 608.524744              3.081594            26.116935   \n",
            "MG                 592.559059              1.895296            11.184584   \n",
            "MS                 554.571593              1.977966             3.664122   \n",
            "MT                 540.597958              1.996264             2.569620   \n",
            "PA                 588.270892              3.476526            19.092857   \n",
            "PB                 604.280388              2.196117            21.657658   \n",
            "PE                 598.066841              3.033769            30.196296   \n",
            "PI                 605.636839              2.795977            13.446429   \n",
            "PR                 562.998106              0.634013             5.239038   \n",
            "RJ                 605.651400              1.826372             4.882051   \n",
            "RN                 607.561447              2.055921             3.304878   \n",
            "RO                 577.266182              2.345455             4.744565   \n",
            "RR                 558.540842              2.210526             1.166667   \n",
            "RS                 567.415515              0.290441             4.061265   \n",
            "SC                 542.574038              0.238750             3.390553   \n",
            "SE                 600.468716              2.733108             5.842857   \n",
            "SP                 562.488484              1.064348             6.180079   \n",
            "TO                 579.278425              2.291096             3.694444   \n",
            "\n",
            "          bolsa_parcial_cotas  bolsa_integral_ampla  \n",
            "uf_busca                                             \n",
            "AC                   2.338583              1.236364  \n",
            "AL                   1.791209              1.777174  \n",
            "AM                   2.037736              2.000000  \n",
            "AP                   1.643836              1.625000  \n",
            "BA                   2.701396              1.902778  \n",
            "CE                   2.765000              1.699267  \n",
            "DF                   2.036145              2.095339  \n",
            "ES                   2.339869              1.920200  \n",
            "GO                   1.840506              2.265546  \n",
            "MA                   2.240157              1.789474  \n",
            "MG                   1.508427              2.457968  \n",
            "MS                   1.614650              2.069892  \n",
            "MT                   1.543814              2.487179  \n",
            "PA                   1.869369              1.914729  \n",
            "PB                   1.846154              2.480114  \n",
            "PE                   1.737805              2.612903  \n",
            "PI                   2.703125              1.537190  \n",
            "PR                   1.389016              2.215586  \n",
            "RJ                   1.531148              2.529412  \n",
            "RN                   2.190000              2.272277  \n",
            "RO                   3.579208              2.560484  \n",
            "RR                   1.777778              1.444444  \n",
            "RS                   1.319149              3.352941  \n",
            "SC                   1.225000              2.900625  \n",
            "SE                   2.910256              1.478448  \n",
            "SP                   1.570099              2.654534  \n",
            "TO                   1.470588              1.651515  \n"
          ]
        },
        {
          "output_type": "stream",
          "name": "stderr",
          "text": [
            "<ipython-input-36-3cfd739b71bc>:6: FutureWarning: Indexing with multiple keys (implicitly converted to a tuple of keys) will be deprecated, use a list instead.\n",
            "  notas_estados = data.groupby('uf_busca')['nota_integral_ampla', 'bolsa_integral_cotas', 'bolsa_parcial_ampla', 'bolsa_parcial_cotas', 'bolsa_integral_ampla'].mean()\n"
          ]
        }
      ]
    },
    {
      "cell_type": "markdown",
      "source": [
        "LETRA E"
      ],
      "metadata": {
        "id": "ddR0K_Xs7PrT"
      }
    },
    {
      "cell_type": "code",
      "source": [
        "import pandas as pd\n",
        "\n",
        "url = 'https://raw.githubusercontent.com/IsaMartins00/Exemplo/main/cursos-prouni.csv'\n",
        "data = pd.read_csv(url)\n",
        "\n",
        "data = data[data['grau'].str.contains('Tecnológico', case=False)]\n",
        "\n",
        "cursos = data.groupby('nome')\n",
        "\n",
        "print(cursos.size())\n"
      ],
      "metadata": {
        "colab": {
          "base_uri": "https://localhost:8080/"
        },
        "id": "lTguNQjv7T46",
        "outputId": "8148b780-05a0-493c-c841-c1f3d62430ae"
      },
      "execution_count": null,
      "outputs": [
        {
          "output_type": "stream",
          "name": "stdout",
          "text": [
            "nome\n",
            "Agroindústria                               1\n",
            "Agronegócio                               143\n",
            "Agropecuária                                1\n",
            "Alimentos                                   4\n",
            "Análise e Desenvolvimento de Sistemas    1008\n",
            "                                         ... \n",
            "Tecnólogo em Metalurgia                     2\n",
            "Turismo Receptivo                           6\n",
            "Visagismo e Terapias Capilares              2\n",
            "Viticultura e Enologia                      2\n",
            "Óptica e Optometria                         2\n",
            "Length: 125, dtype: int64\n"
          ]
        }
      ]
    },
    {
      "cell_type": "markdown",
      "source": [
        "LETRA F"
      ],
      "metadata": {
        "id": "H3zod6tL72DQ"
      }
    },
    {
      "cell_type": "code",
      "source": [
        "import pandas as pd\n",
        "\n",
        "url = 'https://raw.githubusercontent.com/IsaMartins00/Exemplo/main/cursos-prouni.csv'\n",
        "data = pd.read_csv(url)\n",
        "\n",
        "data = data.drop(\"cidade_filtro\", axis=1)\n",
        "\n",
        "print(data.head())\n"
      ],
      "metadata": {
        "colab": {
          "base_uri": "https://localhost:8080/"
        },
        "id": "V8-PPCqU7-UW",
        "outputId": "91547fea-587e-4250-ba0e-0c9c49a04001"
      },
      "execution_count": null,
      "outputs": [
        {
          "output_type": "stream",
          "name": "stdout",
          "text": [
            "          grau     turno  mensalidade  bolsa_integral_cotas  \\\n",
            "0  Bacharelado  Integral      9999.99                  15.0   \n",
            "1  Bacharelado   Noturno      9836.40                   1.0   \n",
            "2  Bacharelado  Integral      9715.61                   2.0   \n",
            "3  Bacharelado   Noturno      9689.34                   3.0   \n",
            "4  Bacharelado  Integral      9674.34                   4.0   \n",
            "\n",
            "   bolsa_integral_ampla  bolsa_parcial_cotas  bolsa_parcial_ampla  \\\n",
            "0                  14.0                  NaN                  NaN   \n",
            "1                   NaN                  NaN                  NaN   \n",
            "2                   5.0                  6.0                 10.0   \n",
            "3                   2.0                  NaN                  NaN   \n",
            "4                   1.0                  5.0                  2.0   \n",
            "\n",
            "          curso_id curso_busca  cidade_busca uf_busca  \\\n",
            "0     706710394154    Medicina  Campo Grande       MS   \n",
            "1  104191210567043  Enfermagem       Crateus       CE   \n",
            "2    1002328574024    Medicina     Sao Paulo       SP   \n",
            "3  104191212798093  Psicologia       Crateus       CE   \n",
            "4   65899611932754    Medicina    Rio Branco       AC   \n",
            "\n",
            "                           universidade_nome  \\\n",
            "0          Universidade Anhanguera - UNIDERP   \n",
            "1          Faculdade Princesa do Oeste - FPO   \n",
            "2  Universidade Cidade de São Paulo - UNICID   \n",
            "3          Faculdade Princesa do Oeste - FPO   \n",
            "4        Faculdade Barão do Rio Branco - FAB   \n",
            "\n",
            "                                         campus_nome  campus_id        nome  \\\n",
            "0                 CAMPO GRANDE - SEDE - Miguel Couto     706710    Medicina   \n",
            "1                         UNIDADE SEDE - São Vicente    1041912  Enfermagem   \n",
            "2  UNIVERSIDADE CIDADE DE SÃO PAULO - UNICID - SE...    1002328    Medicina   \n",
            "3                         UNIDADE SEDE - São Vicente    1041912  Psicologia   \n",
            "4  CAMPUS  - RIO BRANCO - JARDIM EUROPA II - Jard...     658996    Medicina   \n",
            "\n",
            "   nota_integral_ampla  nota_integral_cotas  nota_parcial_ampla  \\\n",
            "0               740.22               726.46                 NaN   \n",
            "1               663.36                  NaN                 NaN   \n",
            "2               739.62               738.08              738.96   \n",
            "3               651.00               652.22                 NaN   \n",
            "4               758.32               723.94              734.92   \n",
            "\n",
            "   nota_parcial_cotas  \n",
            "0                 NaN  \n",
            "1                 NaN  \n",
            "2              718.64  \n",
            "3                 NaN  \n",
            "4              711.26  \n"
          ]
        }
      ]
    },
    {
      "cell_type": "markdown",
      "source": [
        "LETRA G"
      ],
      "metadata": {
        "id": "Ldposmnu8loW"
      }
    },
    {
      "cell_type": "code",
      "source": [
        "import pandas as pd\n",
        "\n",
        "url = 'https://raw.githubusercontent.com/IsaMartins00/Exemplo/main/cursos-prouni.csv'\n",
        "data = pd.read_csv(url)\n",
        "\n",
        "medicina = data[data['nome'].str.contains('Medicina', case=False)]\n",
        "\n",
        "mensalidade = medicina['mensalidade'].mean()\n",
        "\n",
        "print(\"A média das mensalidades do curso de medicina é:\", mensalidade)\n"
      ],
      "metadata": {
        "colab": {
          "base_uri": "https://localhost:8080/"
        },
        "id": "ndbGSGHL8u_h",
        "outputId": "a326c859-f816-462e-de94-1f75b0357be2"
      },
      "execution_count": null,
      "outputs": [
        {
          "output_type": "stream",
          "name": "stdout",
          "text": [
            "A média das mensalidades do curso de medicina é: 2391.160634920635\n"
          ]
        }
      ]
    },
    {
      "cell_type": "markdown",
      "source": [
        "LETRA H\n"
      ],
      "metadata": {
        "id": "ohT4jhYn9P-g"
      }
    },
    {
      "cell_type": "code",
      "source": [
        "import pandas as pd\n",
        "\n",
        "url = 'https://raw.githubusercontent.com/IsaMartins00/Exemplo/main/cursos-prouni.csv'\n",
        "\n",
        "df = pd.read_csv(url)\n",
        "\n",
        "turno = df.groupby('turno')\n",
        "media_integral = turno.get_group('Integral')['nota_integral_ampla'].mean()\n",
        "\n",
        "print(media_integral)\n"
      ],
      "metadata": {
        "id": "bD-ya4tj9RU0",
        "colab": {
          "base_uri": "https://localhost:8080/"
        },
        "outputId": "de351b7d-9d7e-46ae-9148-f54a8a036408"
      },
      "execution_count": 23,
      "outputs": [
        {
          "output_type": "stream",
          "name": "stdout",
          "text": [
            "663.1000342465754\n"
          ]
        }
      ]
    },
    {
      "cell_type": "markdown",
      "source": [
        "LETRA I"
      ],
      "metadata": {
        "id": "6EDr8AtHJ1BB"
      }
    },
    {
      "cell_type": "code",
      "source": [
        "import pandas as pd\n",
        "\n",
        "url = 'https://raw.githubusercontent.com/IsaMartins00/Exemplo/main/cursos-prouni.csv'\n",
        "\n",
        "df = pd.read_csv(url)\n",
        "\n",
        "grupo = df.groupby('grau')\n",
        "nota_integral = grupo.get_group('Bacharelado')['nota_integral_ampla'].describe()\n",
        "\n",
        "print(nota_integral)\n"
      ],
      "metadata": {
        "id": "lmOZtdTqJ5I1",
        "colab": {
          "base_uri": "https://localhost:8080/"
        },
        "outputId": "aa1b8e8a-0611-4b3f-85dc-f92462493fed"
      },
      "execution_count": 19,
      "outputs": [
        {
          "output_type": "stream",
          "name": "stdout",
          "text": [
            "count    15911.000000\n",
            "mean       603.084487\n",
            "std         49.863617\n",
            "min        450.000000\n",
            "25%        575.440000\n",
            "50%        605.480000\n",
            "75%        633.900000\n",
            "max        781.200000\n",
            "Name: nota_integral_ampla, dtype: float64\n"
          ]
        }
      ]
    },
    {
      "cell_type": "markdown",
      "source": [
        "LETRA J"
      ],
      "metadata": {
        "id": "9dT_CAMMJ5nz"
      }
    },
    {
      "cell_type": "code",
      "source": [
        "import pandas as pd\n",
        "import matplotlib.pyplot as plt\n",
        "\n",
        "url = 'https://raw.githubusercontent.com/IsaMartins00/Exemplo/main/cursos-prouni.csv'\n",
        "\n",
        "df = pd.read_csv(url)\n",
        "\n",
        "curso_integral = df.groupby('grau')['nota_integral_cotas'].mean()\n",
        "curso_integral.plot.bar(x='grau', y='nota_integral_cotas')\n",
        "plt.xlabel('Cursos')\n",
        "plt.ylabel('Notas')\n",
        "\n",
        "plt.show()\n"
      ],
      "metadata": {
        "id": "h2w6dt1kJ7jZ",
        "colab": {
          "base_uri": "https://localhost:8080/",
          "height": 523
        },
        "outputId": "ca52f758-58e3-41ac-90d7-14a977d9d486"
      },
      "execution_count": 21,
      "outputs": [
        {
          "output_type": "display_data",
          "data": {
            "text/plain": [
              "<Figure size 640x480 with 1 Axes>"
            ],
            "image/png": "[encoded data removed]"
          },
          "metadata": {}
        }
      ]
    }
  ]
}