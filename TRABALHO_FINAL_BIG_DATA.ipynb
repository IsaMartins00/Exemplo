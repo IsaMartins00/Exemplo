{
  "nbformat": 4,
  "nbformat_minor": 0,
  "metadata": {
    "colab": {
      "provenance": [],
      "authorship_tag": "ABX9TyM9OHaPO/EPg+VcihyxTyFN",
      "include_colab_link": true
    },
    "kernelspec": {
      "name": "python3",
      "display_name": "Python 3"
    },
    "language_info": {
      "name": "python"
    }
  },
  "cells": [
    {
      "cell_type": "markdown",
      "metadata": {
        "id": "view-in-github",
        "colab_type": "text"
      },
      "source": [
        "<a href=\"https://colab.research.google.com/github/IsaMartins00/Exemplo/blob/main/TRABALHO_FINAL_BIG_DATA.ipynb\" target=\"_parent\"><img src=\"https://colab.research.google.com/assets/colab-badge.svg\" alt=\"Open In Colab\"/></a>"
      ]
    },
    {
      "cell_type": "markdown",
      "source": [
        "LETRA A"
      ],
      "metadata": {
        "id": "wvvZ3PnXfCTS"
      }
    },
    {
      "cell_type": "code",
      "source": [
        "import pandas as pd\n",
        "\n",
        "df = pd.read_csv('world_alcohol.csv')\n",
        "\n",
        "agrupar_bebidas = df.groupby('Beverage Types')\n",
        "\n",
        "for beverage, data in agrupar_bebidas:\n",
        "    print(f\"Tipos de bebidas: {beverage}\")\n"
      ],
      "metadata": {
        "id": "yb-XYhIALqSO",
        "colab": {
          "base_uri": "https://localhost:8080/"
        },
        "outputId": "d9bbca63-e2a3-4b18-b64e-3184ee309f90"
      },
      "execution_count": 5,
      "outputs": [
        {
          "output_type": "stream",
          "name": "stdout",
          "text": [
            "Tipos de bebidas: Beer\n",
            "Tipos de bebidas: Other\n",
            "Tipos de bebidas: Spirits\n",
            "Tipos de bebidas: Wine\n"
          ]
        }
      ]
    },
    {
      "cell_type": "markdown",
      "source": [
        "LETRA B"
      ],
      "metadata": {
        "id": "M6QmkI2YfHQJ"
      }
    },
    {
      "cell_type": "code",
      "source": [
        "import pandas as pd\n",
        "\n",
        "\n",
        "df = pd.read_csv('world_alcohol.csv')\n",
        "\n",
        "agrupar_regiao_ano = df.groupby(['WHO region', 'Year'])\n",
        "\n",
        "for (region, year), data in agrupar_regiao_ano:\n",
        "    print(f\"Região: {region}, Ano: {year}\")\n",
        "\n"
      ],
      "metadata": {
        "id": "c3xYb0yyPigo"
      },
      "execution_count": null,
      "outputs": []
    },
    {
      "cell_type": "markdown",
      "source": [
        "LETRA C"
      ],
      "metadata": {
        "id": "swN3vJLrfM36"
      }
    },
    {
      "cell_type": "code",
      "source": [
        "import pandas as pd\n",
        "\n",
        "df = pd.read_csv('world_alcohol.csv')\n",
        "\n",
        "conta_regiao = df['WHO region'].value_counts()\n",
        "\n",
        "conta_pais = df['Country'].value_counts()\n",
        "\n",
        "soma_das_bebidas = df.groupby('Beverage Types')['Display Value'].sum()\n",
        "\n",
        "print(\"Contagem das Regiões:\")\n",
        "print(conta_regiao)\n",
        "print(\"\\nContagem dos Países:\")\n",
        "print(conta_pais )\n",
        "print(\"\\nSoma da coluna de valores por Bebida:\")\n",
        "print(soma_das_bebidas)\n"
      ],
      "metadata": {
        "id": "FA5FTKbkTJ4m"
      },
      "execution_count": null,
      "outputs": []
    },
    {
      "cell_type": "markdown",
      "source": [
        "LETRA D"
      ],
      "metadata": {
        "id": "aQpDDU_TfSR_"
      }
    },
    {
      "cell_type": "code",
      "source": [
        "import pandas as pd\n",
        "import matplotlib.pyplot as plt\n",
        "\n",
        "df = pd.read_csv('world_alcohol.csv')\n",
        "\n",
        "media = df['Display Value'].mean()\n",
        "moda = df['Display Value'].mode().values[0]\n",
        "mediana = df['Display Value'].median()\n",
        "estatistica_descritiva = df['Display Value'].describe()\n",
        "\n",
        "grouped_by_drinks = df.groupby('Beverage Types')['Display Value'].sum()\n",
        "grouped_by_drinks.plot(kind='bar')\n",
        "plt.xlabel('Tipo de Bebida')\n",
        "plt.ylabel('Soma dos Valores')\n",
        "plt.title('Comparação dos Valores Agrupados por Tipo de Bebida')\n",
        "\n",
        "print(\"Análises Estatísticas da Coluna de Valores:\")\n",
        "print(f\"Média: {media}\")\n",
        "print(f\"Moda: {moda}\")\n",
        "print(f\"Mediana: {mediana}\")\n",
        "print(\"estatistica_descritiva:\")\n",
        "print(estatistica_descritiva)\n"
      ],
      "metadata": {
        "id": "zF8d1Ia0dbdw"
      },
      "execution_count": null,
      "outputs": []
    },
    {
      "cell_type": "markdown",
      "source": [
        "LETRA E"
      ],
      "metadata": {
        "id": "D2n46hWmfgKM"
      }
    },
    {
      "cell_type": "code",
      "source": [
        "import pandas as pd\n",
        "\n",
        "df = pd.read_csv('world_alcohol.csv')\n",
        "\n",
        "coluna1 = df[df['Year'] == 1985]['Beverage Types']\n",
        "print(\"Bebidas do ano 1985:\")\n",
        "print(coluna1)\n",
        "print()\n",
        "\n",
        "coluna2 = df[df['Display Value'] > 4]['WHO region']\n",
        "print(\"Região com valores acima de 4:\")\n",
        "print(coluna2)\n"
      ],
      "metadata": {
        "id": "KKvv-HgXfhJ0"
      },
      "execution_count": null,
      "outputs": []
    },
    {
      "cell_type": "code",
      "source": [
        "import pandas as pd\n",
        "\n",
        "df = pd.read_csv('cursos-prouni.csv')\n",
        "\n",
        "df['nota_integral_ampla'].fillna(0.0, inplace=True)\n",
        "df['nota_integral_cotas'].fillna(0.0, inplace=True)\n",
        "df['nota_parcial_ampla'].fillna(0.0, inplace=True)\n",
        "df['nota_parcial_cotas'].fillna(0.0, inplace=True)\n",
        "\n",
        "df.to_csv('cursos-prouni-limpo.csv', index=False)\n"
      ],
      "metadata": {
        "id": "j3GgSyW4xV07"
      },
      "execution_count": 7,
      "outputs": []
    }
  ]
}